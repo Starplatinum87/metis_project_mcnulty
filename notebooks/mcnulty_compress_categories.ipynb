{
 "cells": [
  {
   "cell_type": "markdown",
   "metadata": {},
   "source": [
    "# Compress LeagueIndex Categories\n",
    "- This notebook is to create versions of the dataframe that have the compressed categories.\n",
    "- We are compressing categories to make each one more relevant for the business case and to hopefull improve prediction."
   ]
  },
  {
   "cell_type": "code",
   "execution_count": 6,
   "metadata": {},
   "outputs": [],
   "source": [
    "import pandas as pd\n",
    "import pickle\n",
    "from collections import Counter"
   ]
  },
  {
   "cell_type": "code",
   "execution_count": 4,
   "metadata": {},
   "outputs": [],
   "source": [
    "# Pickle opening code\n",
    "with open('sc_scaled.pickle','rb') as read_file:\n",
    "    scs = pickle.load(read_file)\n",
    "\n",
    "# Pickle opening code\n",
    "with open('sc_noscale.pickle','rb') as read_file:\n",
    "    scns = pickle.load(read_file)"
   ]
  },
  {
   "cell_type": "code",
   "execution_count": 7,
   "metadata": {},
   "outputs": [
    {
     "name": "stdout",
     "output_type": "stream",
     "text": [
      "3352\n",
      "{1, 2, 3}\n",
      "Counter({2: 1594, 1: 1063, 3: 695})\n"
     ]
    }
   ],
   "source": [
    "# Create list of converted league numbers\n",
    "LeagueList = list(scns.LeagueIndex)\n",
    "compressed = []\n",
    "for i in LeagueList:\n",
    "    if i <= 3:\n",
    "        compressed.append(1)\n",
    "    elif i <= 5:\n",
    "        compressed.append(2)\n",
    "    else:\n",
    "        compressed.append(3)\n",
    "print(len(compressed))\n",
    "print(set(compressed))\n",
    "print(Counter(compressed))"
   ]
  },
  {
   "cell_type": "code",
   "execution_count": 8,
   "metadata": {},
   "outputs": [
    {
     "data": {
      "text/plain": [
       "1    1063\n",
       "2    1594\n",
       "3     695\n",
       "Name: LeagueIndex, dtype: int64"
      ]
     },
     "execution_count": 8,
     "metadata": {},
     "output_type": "execute_result"
    }
   ],
   "source": [
    "# Create unscaled dataframe with new leagues\n",
    "newLeagues_ns = scns.copy()\n",
    "newLeagues_ns.LeagueIndex = compressed\n",
    "newLeagues_ns.LeagueIndex.value_counts().sort_index()"
   ]
  },
  {
   "cell_type": "code",
   "execution_count": 14,
   "metadata": {},
   "outputs": [
    {
     "data": {
      "text/plain": [
       "1    1063\n",
       "2    1594\n",
       "3     695\n",
       "Name: LeagueIndex, dtype: int64"
      ]
     },
     "execution_count": 14,
     "metadata": {},
     "output_type": "execute_result"
    }
   ],
   "source": [
    "# Create scaled dataframe with new leagues\n",
    "newLeagues_sc = scs.copy()\n",
    "newLeagues_sc.LeagueIndex = compressed\n",
    "newLeagues_sc.LeagueIndex.value_counts().sort_index()"
   ]
  },
  {
   "cell_type": "code",
   "execution_count": 15,
   "metadata": {},
   "outputs": [],
   "source": [
    "# Pickle recategorized dfs\n",
    "with open('sc_newLeagues_noscale.pickle', 'wb') as write_to:\n",
    "    pickle.dump(newLeagues_ns, write_to)"
   ]
  },
  {
   "cell_type": "code",
   "execution_count": 16,
   "metadata": {},
   "outputs": [],
   "source": [
    "with open('sc_newLeagues_scaled.pickle', 'wb') as write_to:\n",
    "    pickle.dump(newLeagues_sc, write_to)"
   ]
  },
  {
   "cell_type": "code",
   "execution_count": 18,
   "metadata": {},
   "outputs": [
    {
     "data": {
      "text/html": [
       "<div>\n",
       "<style scoped>\n",
       "    .dataframe tbody tr th:only-of-type {\n",
       "        vertical-align: middle;\n",
       "    }\n",
       "\n",
       "    .dataframe tbody tr th {\n",
       "        vertical-align: top;\n",
       "    }\n",
       "\n",
       "    .dataframe thead th {\n",
       "        text-align: right;\n",
       "    }\n",
       "</style>\n",
       "<table border=\"1\" class=\"dataframe\">\n",
       "  <thead>\n",
       "    <tr style=\"text-align: right;\">\n",
       "      <th></th>\n",
       "      <th>LeagueIndex</th>\n",
       "      <th>Age</th>\n",
       "      <th>HoursPerWeek</th>\n",
       "      <th>TotalHours</th>\n",
       "      <th>APM</th>\n",
       "      <th>SelectByHotkeys</th>\n",
       "      <th>AssignToHotkeys</th>\n",
       "      <th>UniqueHotkeys</th>\n",
       "      <th>MinimapAttacks</th>\n",
       "      <th>MinimapRightClicks</th>\n",
       "      <th>NumberOfPACs</th>\n",
       "      <th>GapBetweenPACs</th>\n",
       "      <th>ActionLatency</th>\n",
       "      <th>ActionsInPAC</th>\n",
       "      <th>TotalMapExplored</th>\n",
       "      <th>WorkersMade</th>\n",
       "      <th>UniqueUnitsMade</th>\n",
       "      <th>ComplexUnitsMade</th>\n",
       "      <th>ComplexAbilityUsed</th>\n",
       "      <th>MaxTimeStamp</th>\n",
       "    </tr>\n",
       "  </thead>\n",
       "  <tbody>\n",
       "    <tr>\n",
       "      <th>0</th>\n",
       "      <td>2</td>\n",
       "      <td>30.0</td>\n",
       "      <td>10.0</td>\n",
       "      <td>200.0</td>\n",
       "      <td>69.9612</td>\n",
       "      <td>0.001101</td>\n",
       "      <td>0.000336</td>\n",
       "      <td>0.000042</td>\n",
       "      <td>0.000294</td>\n",
       "      <td>0.000461</td>\n",
       "      <td>0.002926</td>\n",
       "      <td>44.6475</td>\n",
       "      <td>75.3548</td>\n",
       "      <td>4.0430</td>\n",
       "      <td>0.000231</td>\n",
       "      <td>0.000745</td>\n",
       "      <td>0.000063</td>\n",
       "      <td>0.0</td>\n",
       "      <td>0.000189</td>\n",
       "      <td>95360</td>\n",
       "    </tr>\n",
       "    <tr>\n",
       "      <th>1</th>\n",
       "      <td>1</td>\n",
       "      <td>19.0</td>\n",
       "      <td>20.0</td>\n",
       "      <td>400.0</td>\n",
       "      <td>107.6016</td>\n",
       "      <td>0.001034</td>\n",
       "      <td>0.000213</td>\n",
       "      <td>0.000011</td>\n",
       "      <td>0.000053</td>\n",
       "      <td>0.000543</td>\n",
       "      <td>0.003783</td>\n",
       "      <td>29.2203</td>\n",
       "      <td>53.7352</td>\n",
       "      <td>4.9155</td>\n",
       "      <td>0.000202</td>\n",
       "      <td>0.000426</td>\n",
       "      <td>0.000075</td>\n",
       "      <td>0.0</td>\n",
       "      <td>0.000384</td>\n",
       "      <td>93852</td>\n",
       "    </tr>\n",
       "    <tr>\n",
       "      <th>2</th>\n",
       "      <td>1</td>\n",
       "      <td>32.0</td>\n",
       "      <td>10.0</td>\n",
       "      <td>500.0</td>\n",
       "      <td>122.8908</td>\n",
       "      <td>0.001136</td>\n",
       "      <td>0.000327</td>\n",
       "      <td>0.000039</td>\n",
       "      <td>0.000000</td>\n",
       "      <td>0.001329</td>\n",
       "      <td>0.002368</td>\n",
       "      <td>22.6885</td>\n",
       "      <td>62.0813</td>\n",
       "      <td>9.3740</td>\n",
       "      <td>0.000289</td>\n",
       "      <td>0.001174</td>\n",
       "      <td>0.000077</td>\n",
       "      <td>0.0</td>\n",
       "      <td>0.000019</td>\n",
       "      <td>51936</td>\n",
       "    </tr>\n",
       "    <tr>\n",
       "      <th>3</th>\n",
       "      <td>1</td>\n",
       "      <td>27.0</td>\n",
       "      <td>6.0</td>\n",
       "      <td>70.0</td>\n",
       "      <td>44.4570</td>\n",
       "      <td>0.000978</td>\n",
       "      <td>0.000255</td>\n",
       "      <td>0.000021</td>\n",
       "      <td>0.000000</td>\n",
       "      <td>0.000000</td>\n",
       "      <td>0.002425</td>\n",
       "      <td>76.4405</td>\n",
       "      <td>98.7719</td>\n",
       "      <td>3.0965</td>\n",
       "      <td>0.000170</td>\n",
       "      <td>0.000372</td>\n",
       "      <td>0.000064</td>\n",
       "      <td>0.0</td>\n",
       "      <td>0.000000</td>\n",
       "      <td>94032</td>\n",
       "    </tr>\n",
       "    <tr>\n",
       "      <th>4</th>\n",
       "      <td>1</td>\n",
       "      <td>21.0</td>\n",
       "      <td>8.0</td>\n",
       "      <td>240.0</td>\n",
       "      <td>46.9962</td>\n",
       "      <td>0.000820</td>\n",
       "      <td>0.000169</td>\n",
       "      <td>0.000067</td>\n",
       "      <td>0.000000</td>\n",
       "      <td>0.000045</td>\n",
       "      <td>0.001988</td>\n",
       "      <td>94.0227</td>\n",
       "      <td>90.5311</td>\n",
       "      <td>4.1017</td>\n",
       "      <td>0.000169</td>\n",
       "      <td>0.000573</td>\n",
       "      <td>0.000056</td>\n",
       "      <td>0.0</td>\n",
       "      <td>0.000000</td>\n",
       "      <td>89012</td>\n",
       "    </tr>\n",
       "  </tbody>\n",
       "</table>\n",
       "</div>"
      ],
      "text/plain": [
       "   LeagueIndex   Age  HoursPerWeek  TotalHours       APM  SelectByHotkeys  \\\n",
       "0            2  30.0          10.0       200.0   69.9612         0.001101   \n",
       "1            1  19.0          20.0       400.0  107.6016         0.001034   \n",
       "2            1  32.0          10.0       500.0  122.8908         0.001136   \n",
       "3            1  27.0           6.0        70.0   44.4570         0.000978   \n",
       "4            1  21.0           8.0       240.0   46.9962         0.000820   \n",
       "\n",
       "   AssignToHotkeys  UniqueHotkeys  MinimapAttacks  MinimapRightClicks  \\\n",
       "0         0.000336       0.000042        0.000294            0.000461   \n",
       "1         0.000213       0.000011        0.000053            0.000543   \n",
       "2         0.000327       0.000039        0.000000            0.001329   \n",
       "3         0.000255       0.000021        0.000000            0.000000   \n",
       "4         0.000169       0.000067        0.000000            0.000045   \n",
       "\n",
       "   NumberOfPACs  GapBetweenPACs  ActionLatency  ActionsInPAC  \\\n",
       "0      0.002926         44.6475        75.3548        4.0430   \n",
       "1      0.003783         29.2203        53.7352        4.9155   \n",
       "2      0.002368         22.6885        62.0813        9.3740   \n",
       "3      0.002425         76.4405        98.7719        3.0965   \n",
       "4      0.001988         94.0227        90.5311        4.1017   \n",
       "\n",
       "   TotalMapExplored  WorkersMade  UniqueUnitsMade  ComplexUnitsMade  \\\n",
       "0          0.000231     0.000745         0.000063               0.0   \n",
       "1          0.000202     0.000426         0.000075               0.0   \n",
       "2          0.000289     0.001174         0.000077               0.0   \n",
       "3          0.000170     0.000372         0.000064               0.0   \n",
       "4          0.000169     0.000573         0.000056               0.0   \n",
       "\n",
       "   ComplexAbilityUsed  MaxTimeStamp  \n",
       "0            0.000189         95360  \n",
       "1            0.000384         93852  \n",
       "2            0.000019         51936  \n",
       "3            0.000000         94032  \n",
       "4            0.000000         89012  "
      ]
     },
     "execution_count": 18,
     "metadata": {},
     "output_type": "execute_result"
    }
   ],
   "source": [
    "newLeagues_ns.head()"
   ]
  },
  {
   "cell_type": "code",
   "execution_count": null,
   "metadata": {},
   "outputs": [],
   "source": []
  }
 ],
 "metadata": {
  "kernelspec": {
   "display_name": "Python 3",
   "language": "python",
   "name": "python3"
  },
  "language_info": {
   "codemirror_mode": {
    "name": "ipython",
    "version": 3
   },
   "file_extension": ".py",
   "mimetype": "text/x-python",
   "name": "python",
   "nbconvert_exporter": "python",
   "pygments_lexer": "ipython3",
   "version": "3.6.7"
  }
 },
 "nbformat": 4,
 "nbformat_minor": 2
}
