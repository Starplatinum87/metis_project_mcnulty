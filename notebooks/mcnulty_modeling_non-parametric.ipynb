{
 "cells": [
  {
   "cell_type": "markdown",
   "metadata": {},
   "source": [
    "# McNulty Modeling - Non-Parametric Models\n",
    "We will approach the modeling now with the new league categories, scaled down from 8 to 3.\n",
    "Our goal will be to maximize Recall for the categories, especially the top-tier category, Contender."
   ]
  },
  {
   "cell_type": "code",
   "execution_count": 25,
   "metadata": {},
   "outputs": [],
   "source": [
    "import numpy as np\n",
    "import pandas as pd\n",
    "import matplotlib.pyplot as plt\n",
    "import seaborn as sns\n",
    "\n",
    "from sklearn.model_selection import train_test_split\n",
    "from sklearn.neighbors import KNeighborsClassifier\n",
    "from sklearn.metrics import accuracy_score, confusion_matrix\n",
    "from sklearn.model_selection import cross_val_score\n",
    "from sklearn import metrics\n",
    "from sklearn.model_selection import GridSearchCV\n",
    "from sklearn.multiclass import OneVsRestClassifier\n",
    "from sklearn.metrics import make_scorer\n",
    "\n",
    "from sklearn import svm\n",
    "\n",
    "from sklearn.tree import DecisionTreeClassifier\n",
    "from sklearn.svm import LinearSVC\n",
    "from sklearn.svm import SVC\n",
    "from sklearn.ensemble import RandomForestClassifier\n",
    "from sklearn.linear_model import LogisticRegression\n",
    "\n",
    "import matplotlib as mpl\n",
    "import scipy.stats as st\n",
    "\n",
    "from imblearn.over_sampling import RandomOverSampler\n",
    "\n",
    "import pickle\n",
    "from collections import Counter"
   ]
  },
  {
   "cell_type": "code",
   "execution_count": 2,
   "metadata": {},
   "outputs": [],
   "source": [
    "# Get pickles for new league dfs\n",
    "with open('sc_newLeagues_scaled.pickle','rb') as read_file:\n",
    "    scs = pickle.load(read_file)\n",
    "\n",
    "# Pickle opening code\n",
    "with open('sc_newLeagues_noscale.pickle','rb') as read_file:\n",
    "    scns = pickle.load(read_file)"
   ]
  },
  {
   "cell_type": "markdown",
   "metadata": {},
   "source": [
    "### Confusion Matrix Function"
   ]
  },
  {
   "cell_type": "code",
   "execution_count": 193,
   "metadata": {},
   "outputs": [],
   "source": [
    "def print_confusion_matrix(confusion_matrix, class_names, figsize = (10,7), \n",
    "                           labelsize=18, fontsize=15, numsize=20, cmap=None):\n",
    "    \"\"\"Prints a confusion matrix, as returned by sklearn.metrics.confusion_matrix, as a heatmap.\n",
    "    \n",
    "    Arguments\n",
    "    ---------\n",
    "    confusion_matrix: numpy.ndarray\n",
    "        The numpy.ndarray object returned from a call to sklearn.metrics.confusion_matrix. \n",
    "        Similarly constructed ndarrays can also be used.\n",
    "    class_names: list\n",
    "        An ordered list of class names, in the order they index the given confusion matrix.\n",
    "    figsize: tuple\n",
    "        A 2-long tuple, the first value determining the horizontal size of the ouputted figure,\n",
    "        the second determining the vertical size. Defaults to (10,7).\n",
    "    fontsize: int\n",
    "        Font size for axes labels. Defaults to 14.\n",
    "        \n",
    "    Returns\n",
    "    -------\n",
    "    matplotlib.figure.Figure\n",
    "        The resulting confusion matrix figure\n",
    "    \"\"\"\n",
    "    df_cm = pd.DataFrame(confusion_matrix, index=class_names, columns=class_names, )\n",
    "    fig = plt.figure(figsize=figsize)\n",
    "    try:\n",
    "        heatmap = sns.heatmap(df_cm, annot=True, fmt=\"d\", annot_kws={\"size\": numsize}, cmap=cmap )\n",
    "    except ValueError:\n",
    "        raise ValueError(\"Confusion matrix values must be integers.\")\n",
    "    heatmap.yaxis.set_ticklabels(heatmap.yaxis.get_ticklabels(), rotation=0, ha='right', fontsize=labelsize)\n",
    "    heatmap.xaxis.set_ticklabels(heatmap.xaxis.get_ticklabels(), rotation=0, ha='right', fontsize=labelsize)\n",
    "    plt.ylabel('TRUE', fontsize=fontsize)\n",
    "    plt.xlabel('PREDICTED', fontsize=fontsize)\n",
    "    return fig"
   ]
  },
  {
   "cell_type": "markdown",
   "metadata": {},
   "source": [
    "## Create DF Variants for Modeling"
   ]
  },
  {
   "cell_type": "markdown",
   "metadata": {},
   "source": [
    "#### Target = LeagueIndex"
   ]
  },
  {
   "cell_type": "code",
   "execution_count": 7,
   "metadata": {},
   "outputs": [],
   "source": [
    "# Our target across all models\n",
    "y = scs['LeagueIndex']"
   ]
  },
  {
   "cell_type": "markdown",
   "metadata": {},
   "source": [
    "### Non-Parametric Model Features\n",
    "Only taking multicollinearity into account  \n",
    "- HoursPerWeek\n",
    "- APM\n",
    "- UniqueHotkeys\n",
    "- MinimapAttacks\n",
    "- MinimapRightClicks\n",
    "- NumberOfPACs\n",
    "- ActionsInPAC\n",
    "- WorkersMade\n",
    "- UniqueUnitsMade\n",
    "- ComplexAbilityUsed"
   ]
  },
  {
   "cell_type": "code",
   "execution_count": 8,
   "metadata": {},
   "outputs": [],
   "source": [
    "# Unscaled non-parametric features\n",
    "np_noscal = scns.copy()\n",
    "np_noscal = np_noscal[['HoursPerWeek', 'APM', 'UniqueHotkeys', 'MinimapAttacks',\n",
    "                       'MinimapRightClicks', 'NumberOfPACs', 'ActionsInPAC', \n",
    "                       'WorkersMade', 'UniqueUnitsMade', 'ComplexAbilityUsed']]"
   ]
  },
  {
   "cell_type": "code",
   "execution_count": 9,
   "metadata": {},
   "outputs": [],
   "source": [
    "# Scaled non-parametric features\n",
    "np_scaled = scs.copy()\n",
    "np_scaled = np_scaled[['HoursPerWeek', 'APM', 'UniqueHotkeys', 'MinimapAttacks',\n",
    "                       'MinimapRightClicks', 'NumberOfPACs', 'ActionsInPAC', \n",
    "                       'WorkersMade', 'UniqueUnitsMade', 'ComplexAbilityUsed']]"
   ]
  },
  {
   "cell_type": "markdown",
   "metadata": {},
   "source": [
    "### Parametric Model Features\n",
    "Very few due to general lack of normality in the dataset\n",
    "- APM\n",
    "- NumberOfPACs\n",
    "- UniqueUnitsMade"
   ]
  },
  {
   "cell_type": "code",
   "execution_count": 10,
   "metadata": {},
   "outputs": [],
   "source": [
    "# Unscaled parametric features\n",
    "par_noscal = scns.copy()\n",
    "par_noscal = par_noscal[['APM', 'NumberOfPACs', 'UniqueUnitsMade']]"
   ]
  },
  {
   "cell_type": "code",
   "execution_count": 11,
   "metadata": {},
   "outputs": [],
   "source": [
    "# Scaled parametric features\n",
    "par_scaled = scs.copy()\n",
    "par_scaled = par_scaled[['APM', 'NumberOfPACs', 'UniqueUnitsMade']]"
   ]
  },
  {
   "cell_type": "markdown",
   "metadata": {},
   "source": [
    "## Non-Parametric Approaches\n",
    "Because so few features survived the normality tests we'll start with non-parametric models\n",
    "- KNN\n",
    "- Support Vector Classifiers\n",
    "- Random Forests "
   ]
  },
  {
   "cell_type": "markdown",
   "metadata": {},
   "source": [
    "### KNN\n",
    "- Since KNN is based on Euclidean distance we'll used the scaled version of the non-parametric data."
   ]
  },
  {
   "cell_type": "markdown",
   "metadata": {},
   "source": [
    "### KNN Simple train_test_split Test"
   ]
  },
  {
   "cell_type": "code",
   "execution_count": 136,
   "metadata": {},
   "outputs": [],
   "source": [
    "# Set the split to 75/25 train/test\n",
    "X_train, X_test, y_train, y_test = train_test_split(np_scaled, y, test_size=0.25, random_state=0)"
   ]
  },
  {
   "cell_type": "code",
   "execution_count": 13,
   "metadata": {},
   "outputs": [],
   "source": [
    "# Train on training set, and Test on testing set with K=5\n",
    "knn = KNeighborsClassifier(n_neighbors=5)\n",
    "knn.fit(X_train, y_train)\n",
    "y_pred = knn.predict(X_test)"
   ]
  },
  {
   "cell_type": "code",
   "execution_count": 18,
   "metadata": {},
   "outputs": [
    {
     "name": "stdout",
     "output_type": "stream",
     "text": [
      "Accuracy Score: 0.6121718377088305\n",
      "Overall Recall: [0.64620939 0.65535248 0.46629213]\n",
      "Contender Class Recall: [0.46629213]\n"
     ]
    }
   ],
   "source": [
    "# Scores\n",
    "print(\"Accuracy Score:\", metrics.accuracy_score(y_test, y_pred))\n",
    "print(\"Overall Recall:\" , metrics.recall_score(y_test, y_pred, average=None))\n",
    "print(\"Contender Class Recall:\" , metrics.recall_score(y_test, y_pred, average=None, labels=[3]))"
   ]
  },
  {
   "cell_type": "code",
   "execution_count": 103,
   "metadata": {},
   "outputs": [
    {
     "data": {
      "text/plain": [
       "array([[179,  95,   3],\n",
       "       [ 88, 251,  44],\n",
       "       [ 14,  81,  83]])"
      ]
     },
     "execution_count": 103,
     "metadata": {},
     "output_type": "execute_result"
    }
   ],
   "source": [
    "confusion_matrix(y_test, y_pred)"
   ]
  },
  {
   "cell_type": "markdown",
   "metadata": {},
   "source": [
    "- Pretty awful recall score. Definitely need to do better"
   ]
  },
  {
   "cell_type": "code",
   "execution_count": 19,
   "metadata": {},
   "outputs": [
    {
     "data": {
      "text/plain": [
       "array([[179,  95,   3],\n",
       "       [ 88, 251,  44],\n",
       "       [ 14,  81,  83]])"
      ]
     },
     "execution_count": 19,
     "metadata": {},
     "output_type": "execute_result"
    }
   ],
   "source": [
    "cnf_matrix = metrics.confusion_matrix(y_test, y_pred)\n",
    "cnf_matrix"
   ]
  },
  {
   "cell_type": "code",
   "execution_count": 21,
   "metadata": {},
   "outputs": [
    {
     "data": {
      "image/png": "[encoded data removed]",
      "text/plain": [
       "<Figure size 720x504 with 2 Axes>"
      ]
     },
     "metadata": {
      "needs_background": "light"
     },
     "output_type": "display_data"
    }
   ],
   "source": [
    "cm = print_confusion_matrix(confusion_matrix(y_test, y_pred), \n",
    "                      ['Amateur', 'Promising', 'Contender'])\n",
    "plt.savefig('knn_train_test_split_confusion-test.png')"
   ]
  },
  {
   "cell_type": "markdown",
   "metadata": {},
   "source": [
    "### Cross-Validated search for optimal value of K"
   ]
  },
  {
   "cell_type": "code",
   "execution_count": 28,
   "metadata": {},
   "outputs": [],
   "source": [
    "# Make custom scorer\n",
    "recallScorer = make_scorer(metrics.recall_score, average=None, labels=[3])"
   ]
  },
  {
   "cell_type": "code",
   "execution_count": 29,
   "metadata": {},
   "outputs": [
    {
     "name": "stdout",
     "output_type": "stream",
     "text": [
      "[0.4312594268476621, 0.26704374057315233, 0.45837104072398194, 0.3423076923076923, 0.4042232277526395, 0.35584464555052786, 0.40610859728506793, 0.3481523378582202, 0.37711161387631975, 0.3520361990950226, 0.379185520361991, 0.3462292609351433, 0.3597662141779788, 0.35199849170437403, 0.3617269984917044, 0.35015082956259425, 0.35015082956259425, 0.34626696832579185, 0.33657616892911013, 0.3461915535444947, 0.34030920060331826, 0.3500754147812971, 0.34423076923076923, 0.3346907993966817, 0.3384238310708899, 0.32688536953242836, 0.33453996983408746, 0.3326546003016591, 0.3289592760180996, 0.31534690799396675]\n",
      "Max score: 0.45837104072398194\n"
     ]
    }
   ],
   "source": [
    "# Search for an optimal value of K for KNN using 10-fold CV on the training sets, and Recall as the scorer\n",
    "k_range = list(range(1, 31))\n",
    "k_scores = []\n",
    "for k in k_range:\n",
    "    knn = KNeighborsClassifier(n_neighbors=k)\n",
    "    scores = cross_val_score(knn, X_train, y_train, cv=10, scoring=recallScorer)\n",
    "    k_scores.append(scores.mean())\n",
    "print(k_scores)\n",
    "print('Max score:',max(k_scores))"
   ]
  },
  {
   "cell_type": "code",
   "execution_count": 30,
   "metadata": {},
   "outputs": [
    {
     "name": "stdout",
     "output_type": "stream",
     "text": [
      "[['K value: 3', 'Score: 0.45837104072398194']]\n"
     ]
    }
   ],
   "source": [
    "# Write a little function to return the best k scores of the bunch\n",
    "def best_K_scores(k_scores):\n",
    "    best_K_values = []\n",
    "    count = 0\n",
    "    for i in k_scores:\n",
    "        count += 1\n",
    "        if i == max(k_scores):\n",
    "            best_K_values.append(['K value: ' + str(count), 'Score: ' + str(i)])\n",
    "    print(best_K_values)       \n",
    "best_K_scores(k_scores)"
   ]
  },
  {
   "cell_type": "code",
   "execution_count": 31,
   "metadata": {},
   "outputs": [
    {
     "data": {
      "text/plain": [
       "Text(0, 0.5, 'Cross-Validated Accuracy')"
      ]
     },
     "execution_count": 31,
     "metadata": {},
     "output_type": "execute_result"
    },
    {
     "data": {
      "image/png": "[encoded data removed]",
      "text/plain": [
       "<Figure size 432x288 with 1 Axes>"
      ]
     },
     "metadata": {
      "needs_background": "light"
     },
     "output_type": "display_data"
    }
   ],
   "source": [
    "# Plot the scores\n",
    "import matplotlib.pyplot as plt\n",
    "%matplotlib inline\n",
    "\n",
    "# plot the value of K for KNN (x-axis) versus the cross-validated accuracy (y-axis)\n",
    "plt.plot(k_range, k_scores)\n",
    "plt.xlabel('Value of K for KNN')\n",
    "plt.ylabel('Cross-Validated Accuracy')"
   ]
  },
  {
   "cell_type": "markdown",
   "metadata": {},
   "source": [
    "- Pretty wild scoring curve. \n",
    "- Overall Recall is low though. Much lower than what we would want, but in line with the first Recall score. "
   ]
  },
  {
   "cell_type": "code",
   "execution_count": 33,
   "metadata": {},
   "outputs": [
    {
     "name": "stdout",
     "output_type": "stream",
     "text": [
      "[0.4312594268476621, 0.26704374057315233, 0.45837104072398194, 0.3423076923076923, 0.4042232277526395, 0.35584464555052786, 0.40610859728506793, 0.3481523378582202, 0.37711161387631975, 0.3520361990950226, 0.379185520361991, 0.3462292609351433, 0.3597662141779788, 0.35199849170437403, 0.3617269984917044, 0.35015082956259425, 0.35015082956259425, 0.34626696832579185, 0.33657616892911013, 0.3461915535444947, 0.34030920060331826, 0.3500754147812971, 0.34423076923076923, 0.3346907993966817, 0.3384238310708899, 0.32688536953242836, 0.33453996983408746, 0.3326546003016591, 0.3289592760180996, 0.31534690799396675, 0.3308069381598793, 0.3173076923076923, 0.31342383107088995, 0.31534690799396686, 0.32119155354449475, 0.3173453996983409, 0.32699849170437406, 0.3172699849170438, 0.3211161387631976, 0.3172699849170438, 0.3230769230769231, 0.3095399698340875, 0.30754147812971344, 0.31146304675716446, 0.3115007541478129, 0.3018099547511312, 0.2998491704374057, 0.2940422322775264, 0.29981146304675715, 0.2998114630467571, 0.28431372549019607, 0.28431372549019607, 0.28239064856711915, 0.28438914027149326, 0.29012066365007544, 0.2824283559577677, 0.28046757164404224, 0.2805052790346908, 0.2824283559577677, 0.2805052790346908, 0.28054298642533937, 0.2844268476621418, 0.2901960784313726, 0.2824283559577677, 0.2901206636500754, 0.2843891402714932, 0.2843891402714932, 0.2805052790346908, 0.28239064856711915, 0.2805052790346908, 0.2785822021116139, 0.27473604826546005, 0.2863122171945701, 0.2766968325791855, 0.28054298642533937, 0.2708521870286576, 0.28058069381598794, 0.2825037707390649, 0.28054298642533937, 0.278657616892911, 0.2766968325791855, 0.27285067873303165, 0.27092760180995473, 0.27085218702865765, 0.27477375565610856, 0.2689291101055807, 0.26693061840120663, 0.2688536953242836, 0.26693061840120663, 0.26496983408748115, 0.2669683257918552, 0.26496983408748115, 0.2572398190045249, 0.25916289592760183, 0.2610482654600301, 0.2591251885369532, 0.2630090497737556, 0.2572775263951735, 0.25531674208144794]\n",
      "Max score: 0.45837104072398194\n"
     ]
    }
   ],
   "source": [
    "k_range = list(range(1, 100))\n",
    "k_scores = []\n",
    "for k in k_range:\n",
    "    knn = KNeighborsClassifier(n_neighbors=k)\n",
    "    scores = cross_val_score(knn, X_train, y_train, cv=10, scoring=recallScorer)\n",
    "    k_scores.append(scores.mean())\n",
    "print(k_scores)\n",
    "print('Max score:',max(k_scores))"
   ]
  },
  {
   "cell_type": "code",
   "execution_count": 34,
   "metadata": {},
   "outputs": [
    {
     "name": "stdout",
     "output_type": "stream",
     "text": [
      "[['K value: 3', 'Score: 0.45837104072398194']]\n"
     ]
    }
   ],
   "source": [
    "best_K_scores(k_scores)"
   ]
  },
  {
   "cell_type": "code",
   "execution_count": 35,
   "metadata": {},
   "outputs": [
    {
     "data": {
      "text/plain": [
       "Text(0, 0.5, 'Cross-Validated Accuracy')"
      ]
     },
     "execution_count": 35,
     "metadata": {},
     "output_type": "execute_result"
    },
    {
     "data": {
      "image/png": "[encoded data removed]",
      "text/plain": [
       "<Figure size 432x288 with 1 Axes>"
      ]
     },
     "metadata": {
      "needs_background": "light"
     },
     "output_type": "display_data"
    }
   ],
   "source": [
    "# Plot the scores\n",
    "import matplotlib.pyplot as plt\n",
    "%matplotlib inline\n",
    "\n",
    "# plot the value of K for KNN (x-axis) versus the cross-validated accuracy (y-axis)\n",
    "plt.plot(k_range, k_scores)\n",
    "plt.xlabel('Value of K for KNN')\n",
    "plt.ylabel('Cross-Validated Accuracy')"
   ]
  },
  {
   "cell_type": "code",
   "execution_count": 36,
   "metadata": {},
   "outputs": [],
   "source": [
    "# Train on training set, and Test on testing set with K=3, the best of the K Recall values\n",
    "knn = KNeighborsClassifier(n_neighbors=3)\n",
    "knn.fit(X_train, y_train)\n",
    "y_pred = knn.predict(X_test)\n",
    "score = cross_val_score(knn, X_test, y_test, cv=10, scoring=recallScorer)"
   ]
  },
  {
   "cell_type": "code",
   "execution_count": 37,
   "metadata": {},
   "outputs": [],
   "source": [
    "cnf_matrix = metrics.confusion_matrix(y_test, y_pred)"
   ]
  },
  {
   "cell_type": "code",
   "execution_count": 38,
   "metadata": {},
   "outputs": [
    {
     "data": {
      "image/png": "[encoded data removed]",
      "text/plain": [
       "<Figure size 720x504 with 2 Axes>"
      ]
     },
     "metadata": {
      "needs_background": "light"
     },
     "output_type": "display_data"
    }
   ],
   "source": [
    "cm = print_confusion_matrix(confusion_matrix(y_test, y_pred), \n",
    "                      ['Amateur', 'Promising', 'Contender'])"
   ]
  },
  {
   "cell_type": "markdown",
   "metadata": {},
   "source": [
    "#### Change weight parameter to 'distance' in KNN"
   ]
  },
  {
   "cell_type": "code",
   "execution_count": 41,
   "metadata": {},
   "outputs": [
    {
     "name": "stdout",
     "output_type": "stream",
     "text": [
      "[0.46153846 0.48076923 0.46153846 0.48076923 0.53846154 0.40384615\n",
      " 0.53846154 0.41176471 0.50980392 0.47058824]\n",
      "0.4757541478129713\n"
     ]
    }
   ],
   "source": [
    "# Trying using the 'distance' for the weights parameter in the classifier, K=3\n",
    "knn = KNeighborsClassifier(n_neighbors=3, weights='distance')\n",
    "knn.fit(X_train, y_train)\n",
    "score = cross_val_score(knn, X_train, y_train, cv=10, scoring=recallScorer)\n",
    "print(score)\n",
    "print(score.mean())"
   ]
  },
  {
   "cell_type": "markdown",
   "metadata": {},
   "source": [
    "### KNN-CV Test Results\n",
    "Perform test on the KNN-CV set with the optimized neighbors and weights parameters."
   ]
  },
  {
   "cell_type": "code",
   "execution_count": 50,
   "metadata": {},
   "outputs": [],
   "source": [
    "y_pred = knn.predict(X_test)"
   ]
  },
  {
   "cell_type": "code",
   "execution_count": 51,
   "metadata": {},
   "outputs": [
    {
     "name": "stdout",
     "output_type": "stream",
     "text": [
      "Accuracy Score: 0.6014319809069213\n",
      "Overall Recall: [0.60649819 0.63707572 0.51685393]\n",
      "Contender Class Recall: [0.51685393]\n"
     ]
    }
   ],
   "source": [
    "print(\"Accuracy Score:\", metrics.accuracy_score(y_test, y_pred))\n",
    "print(\"Overall Recall:\" , metrics.recall_score(y_test, y_pred, average=None))\n",
    "print(\"Contender Class Recall:\" , metrics.recall_score(y_test, y_pred, average=None, labels=[3]))"
   ]
  },
  {
   "cell_type": "code",
   "execution_count": 45,
   "metadata": {},
   "outputs": [
    {
     "data": {
      "text/plain": [
       "array([[168, 103,   6],\n",
       "       [ 87, 244,  52],\n",
       "       [  7,  79,  92]])"
      ]
     },
     "execution_count": 45,
     "metadata": {},
     "output_type": "execute_result"
    }
   ],
   "source": [
    "metrics.confusion_matrix(y_test, y_pred)"
   ]
  },
  {
   "cell_type": "markdown",
   "metadata": {},
   "source": [
    "- Slight improvement in Contender Recall and overall Recall. We've gotten above 0.5!"
   ]
  },
  {
   "cell_type": "markdown",
   "metadata": {},
   "source": [
    "### Oversampling Training Data\n",
    "See if oversampling to even out classes helps"
   ]
  },
  {
   "cell_type": "code",
   "execution_count": 139,
   "metadata": {},
   "outputs": [],
   "source": [
    "# Oversample the classes\n",
    "ros = RandomOverSampler(random_state=1)\n",
    "X_resampled, y_resampled = ros.fit_sample(X_train,y_train)"
   ]
  },
  {
   "cell_type": "code",
   "execution_count": 58,
   "metadata": {},
   "outputs": [],
   "source": [
    "# Test K value ranges 1-100 with oversampled data\n",
    "k_range = list(range(1, 101))\n",
    "k_scores = []\n",
    "for k in k_range:\n",
    "    knn = KNeighborsClassifier(n_neighbors=k, weights='distance')\n",
    "    scores = cross_val_score(knn, X_resampled, y_resampled, cv=10, scoring=recallScorer)\n",
    "    k_scores.append(scores.mean())"
   ]
  },
  {
   "cell_type": "code",
   "execution_count": 59,
   "metadata": {},
   "outputs": [
    {
     "name": "stdout",
     "output_type": "stream",
     "text": [
      "[['K value: 20', 'Score: 0.9653773201463217']]\n"
     ]
    }
   ],
   "source": [
    "# Pull out the best score\n",
    "best_K_scores(k_scores)"
   ]
  },
  {
   "cell_type": "markdown",
   "metadata": {},
   "source": [
    "- That is a __vast improvement__ in the Recall score, and a much higher neighbor count. \n",
    "- Let's see who this pans out in test."
   ]
  },
  {
   "cell_type": "code",
   "execution_count": 60,
   "metadata": {},
   "outputs": [
    {
     "data": {
      "text/plain": [
       "Text(0, 0.5, 'Cross-Validated Accuracy')"
      ]
     },
     "execution_count": 60,
     "metadata": {},
     "output_type": "execute_result"
    },
    {
     "data": {
      "image/png": "[encoded data removed]",
      "text/plain": [
       "<Figure size 432x288 with 1 Axes>"
      ]
     },
     "metadata": {
      "needs_background": "light"
     },
     "output_type": "display_data"
    }
   ],
   "source": [
    "# Plot the scores\n",
    "import matplotlib.pyplot as plt\n",
    "%matplotlib inline\n",
    "\n",
    "# plot the value of K for KNN (x-axis) versus the cross-validated accuracy (y-axis)\n",
    "plt.plot(k_range, k_scores)\n",
    "plt.xlabel('Value of K for KNN')\n",
    "plt.ylabel('Cross-Validated Accuracy')"
   ]
  },
  {
   "cell_type": "code",
   "execution_count": 61,
   "metadata": {},
   "outputs": [
    {
     "data": {
      "text/plain": [
       "0.9653773201463217"
      ]
     },
     "execution_count": 61,
     "metadata": {},
     "output_type": "execute_result"
    }
   ],
   "source": [
    "# Train with oversampled data\n",
    "knn = KNeighborsClassifier(n_neighbors=20, weights='distance')\n",
    "knn.fit(X_resampled, y_resampled)\n",
    "y_pred = knn.predict(X_resampled)\n",
    "score = cross_val_score(knn, X_resampled, y_resampled, cv=10, scoring=recallScorer)\n",
    "score.mean()"
   ]
  },
  {
   "cell_type": "markdown",
   "metadata": {},
   "source": [
    "### Oversampled KNN-CV Test Results"
   ]
  },
  {
   "cell_type": "code",
   "execution_count": 62,
   "metadata": {},
   "outputs": [],
   "source": [
    "y_pred = knn.predict(X_test)"
   ]
  },
  {
   "cell_type": "code",
   "execution_count": 63,
   "metadata": {},
   "outputs": [
    {
     "name": "stdout",
     "output_type": "stream",
     "text": [
      "Accuracy Score: 0.6336515513126492\n",
      "Overall Recall: [0.77256318 0.46997389 0.76966292]\n",
      "Contender Class Recall: [0.76966292]\n"
     ]
    }
   ],
   "source": [
    "print(\"Accuracy Score:\", metrics.accuracy_score(y_test, y_pred))\n",
    "print(\"Overall Recall:\" , metrics.recall_score(y_test, y_pred, average=None))\n",
    "print(\"Contender Class Recall:\" , metrics.recall_score(y_test, y_pred, average=None, labels=[3]))"
   ]
  },
  {
   "cell_type": "code",
   "execution_count": 64,
   "metadata": {},
   "outputs": [
    {
     "data": {
      "image/png": "[encoded data removed]",
      "text/plain": [
       "<Figure size 720x504 with 2 Axes>"
      ]
     },
     "metadata": {
      "needs_background": "light"
     },
     "output_type": "display_data"
    }
   ],
   "source": [
    "cnf_matrix = metrics.confusion_matrix(y_test, y_pred)\n",
    "cm = print_confusion_matrix(confusion_matrix(y_test, y_pred), \n",
    "                      ['Amateur', 'Promising', 'Contender'])"
   ]
  },
  {
   "cell_type": "markdown",
   "metadata": {},
   "source": [
    "- Really good improvement for Contender recall, which is the primary goal. \n",
    "- However, recall for the Promising category has really suffered. May be willing to accept this though. \n",
    "- So far __oversampled KNN-CV has the best performance for Contender__."
   ]
  },
  {
   "cell_type": "markdown",
   "metadata": {},
   "source": [
    "### Support Vector Classifiers\n",
    "Train and test with Support Vector Classifiers."
   ]
  },
  {
   "cell_type": "markdown",
   "metadata": {},
   "source": [
    "### Simple Training Splits\n",
    "We'll only be looking at the training scores for these."
   ]
  },
  {
   "cell_type": "code",
   "execution_count": 65,
   "metadata": {
    "scrolled": true
   },
   "outputs": [
    {
     "data": {
      "text/plain": [
       "0.6610978520286396"
      ]
     },
     "execution_count": 65,
     "metadata": {},
     "output_type": "execute_result"
    }
   ],
   "source": [
    "# Linear Kernel \n",
    "linear_svc = SVC(C=1, kernel='linear')\n",
    "linear_svc.fit(X_train, y_train)\n",
    "score = linear_svc.score(X_train, y_train)\n",
    "score"
   ]
  },
  {
   "cell_type": "code",
   "execution_count": 67,
   "metadata": {
    "scrolled": true
   },
   "outputs": [
    {
     "data": {
      "text/plain": [
       "0.7291169451073986"
      ]
     },
     "execution_count": 67,
     "metadata": {},
     "output_type": "execute_result"
    }
   ],
   "source": [
    "# Polynomial Kernel\n",
    "poly_svc = SVC(C=1, kernel='poly', gamma=1)\n",
    "poly_svc.fit(X_train, y_train)\n",
    "score = poly_svc.score(X_train, y_train)\n",
    "score"
   ]
  },
  {
   "cell_type": "markdown",
   "metadata": {},
   "source": [
    "- Worth noting that the poly kernel took forever to run. Easily a minute or two. "
   ]
  },
  {
   "cell_type": "code",
   "execution_count": 68,
   "metadata": {},
   "outputs": [
    {
     "data": {
      "text/plain": [
       "0.4192521877486078"
      ]
     },
     "execution_count": 68,
     "metadata": {},
     "output_type": "execute_result"
    }
   ],
   "source": [
    "# Sigmoid Kernel\n",
    "sig_svc = SVC(C=1, kernel='sigmoid', gamma=1)\n",
    "sig_svc.fit(X_train, y_train)\n",
    "score = sig_svc.score(X_train, y_train)\n",
    "score"
   ]
  },
  {
   "cell_type": "code",
   "execution_count": 69,
   "metadata": {},
   "outputs": [
    {
     "data": {
      "text/plain": [
       "0.9212410501193318"
      ]
     },
     "execution_count": 69,
     "metadata": {},
     "output_type": "execute_result"
    }
   ],
   "source": [
    "# RBF Kernel\n",
    "rbf_svc = SVC(C=1, kernel='rbf', gamma=1)\n",
    "rbf_svc.fit(X_train, y_train)\n",
    "score = rbf_svc.score(X_train, y_train)\n",
    "score"
   ]
  },
  {
   "cell_type": "markdown",
   "metadata": {},
   "source": [
    "- The Radial Basis Function had the best result, at least on the training data. \n",
    "- I'm pretty suspicious of this though. RBF is a very dynamic model and it may be significantly overfitting on the training ata. "
   ]
  },
  {
   "cell_type": "markdown",
   "metadata": {},
   "source": [
    "### Cross-Validated\n",
    "We'll try cross validation on the SVC modeling. We'll stick with oversampled, since that seemed to yield better results."
   ]
  },
  {
   "cell_type": "code",
   "execution_count": 140,
   "metadata": {
    "scrolled": false
   },
   "outputs": [
    {
     "name": "stdout",
     "output_type": "stream",
     "text": [
      "[0.75409836 0.67768595 0.66115702 0.65289256 0.73553719 0.7107438\n",
      " 0.73553719 0.69421488 0.75206612 0.7107438 ]\n",
      "Linear Kernel CV Score: 0.7084676873052432\n",
      "Accuracy: 0.71 (+/- 0.07)\n"
     ]
    }
   ],
   "source": [
    "# Linear Kernel CV\n",
    "linear_svc = SVC(C=1, kernel='linear')\n",
    "linear_cv_scores = cross_val_score(linear_svc, X_resampled, y_resampled, cv=10, scoring=recallScorer)\n",
    "print(linear_cv_scores)\n",
    "print('Linear Kernel CV Score:', linear_cv_scores.mean())\n",
    "print(\"Accuracy: %0.2f (+/- %0.2f)\" % (linear_cv_scores.mean(), linear_cv_scores.std() * 2))"
   ]
  },
  {
   "cell_type": "markdown",
   "metadata": {},
   "source": [
    "- Overall not bad on train. Let's look at test. "
   ]
  },
  {
   "cell_type": "markdown",
   "metadata": {},
   "source": [
    "### SVC Linear Kernel Test"
   ]
  },
  {
   "cell_type": "code",
   "execution_count": 141,
   "metadata": {},
   "outputs": [],
   "source": [
    "linear_svc.fit(X_resampled, y_resampled)\n",
    "y_pred = linear_svc.predict(X_test)"
   ]
  },
  {
   "cell_type": "code",
   "execution_count": 142,
   "metadata": {},
   "outputs": [
    {
     "name": "stdout",
     "output_type": "stream",
     "text": [
      "Accuracy Score: 0.665871121718377\n",
      "Overall Recall: [0.79783394 0.52219321 0.76966292]\n",
      "Contender Class Recall: [0.76966292]\n"
     ]
    }
   ],
   "source": [
    "print(\"Accuracy Score:\", metrics.accuracy_score(y_test, y_pred))\n",
    "print(\"Overall Recall:\" , metrics.recall_score(y_test, y_pred, average=None))\n",
    "print(\"Contender Class Recall:\" , metrics.recall_score(y_test, y_pred, average=None, labels=[3]))"
   ]
  },
  {
   "cell_type": "markdown",
   "metadata": {},
   "source": [
    "- Wow, better Recall overall for all classes. \n",
    "- Great to see improvements for "
   ]
  },
  {
   "cell_type": "code",
   "execution_count": null,
   "metadata": {},
   "outputs": [],
   "source": [
    "#print_confusion_matrix(confusion_matrix, class_names, figsize = (10,7), labelsize=18, fontsize=15, cmap=None)"
   ]
  },
  {
   "cell_type": "code",
   "execution_count": 194,
   "metadata": {},
   "outputs": [
    {
     "data": {
      "image/png": "[encoded data removed]",
      "text/plain": [
       "<Figure size 1080x720 with 2 Axes>"
      ]
     },
     "metadata": {
      "needs_background": "light"
     },
     "output_type": "display_data"
    }
   ],
   "source": [
    "cnf_matrix = metrics.confusion_matrix(y_test, y_pred)\n",
    "cm = print_confusion_matrix(confusion_matrix(y_test, y_pred), \n",
    "                            ['Amateur', 'Promising', 'Contender'], \n",
    "                            figsize=(15,10), cmap='OrRd',\n",
    "                            labelsize=20, fontsize=20, numsize=25)"
   ]
  },
  {
   "cell_type": "markdown",
   "metadata": {},
   "source": [
    "- Good performance on Contender. Overall precision is about the same. "
   ]
  },
  {
   "cell_type": "code",
   "execution_count": 85,
   "metadata": {},
   "outputs": [
    {
     "name": "stdout",
     "output_type": "stream",
     "text": [
      "[0.60655738 0.49586777 0.52892562 0.56198347 0.59504132 0.5785124\n",
      " 0.56198347 0.62809917 0.63636364 0.57024793]\n",
      "Polynomial Kernel CV Score: 0.576358217043761\n",
      "Accuracy: 0.58 (+/- 0.08)\n"
     ]
    }
   ],
   "source": [
    "# Poly Kernel CV\n",
    "poly_svc = SVC(C=1, kernel='poly', gamma='auto')\n",
    "poly_cv_scores = cross_val_score(poly_svc, X_resampled, y_resampled, cv=10, scoring=recallScorer)\n",
    "print(poly_cv_scores)\n",
    "print('Polynomial Kernel CV Score:', poly_cv_scores.mean())\n",
    "print(\"Accuracy: %0.2f (+/- %0.2f)\" % (poly_cv_scores.mean(), poly_cv_scores.std() * 2))"
   ]
  },
  {
   "cell_type": "markdown",
   "metadata": {},
   "source": [
    "- Not horrible, but not better than linear."
   ]
  },
  {
   "cell_type": "code",
   "execution_count": 86,
   "metadata": {},
   "outputs": [
    {
     "name": "stdout",
     "output_type": "stream",
     "text": [
      "[0.69672131 0.58677686 0.73553719 0.66115702 0.70247934 0.58677686\n",
      " 0.74380165 0.6446281  0.76033058 0.66942149]\n",
      "Sigmoid Kernel CV Score: 0.6787630402384501\n",
      "Accuracy: 0.68 (+/- 0.12)\n"
     ]
    }
   ],
   "source": [
    "# Sigmoid Kernel CV\n",
    "sig_svc = SVC(C=1, kernel='sigmoid', gamma='auto')\n",
    "sig_cv_scores = cross_val_score(sig_svc, X_resampled, y_resampled, cv=10, scoring=recallScorer)\n",
    "print(sig_cv_scores)\n",
    "print('Sigmoid Kernel CV Score:', sig_cv_scores.mean())\n",
    "print(\"Accuracy: %0.2f (+/- %0.2f)\" % (sig_cv_scores.mean(), sig_cv_scores.std() * 2))"
   ]
  },
  {
   "cell_type": "markdown",
   "metadata": {},
   "source": [
    "- Not that great."
   ]
  },
  {
   "cell_type": "code",
   "execution_count": 87,
   "metadata": {},
   "outputs": [
    {
     "name": "stdout",
     "output_type": "stream",
     "text": [
      "[0.60655738 0.49586777 0.52892562 0.56198347 0.59504132 0.5785124\n",
      " 0.56198347 0.62809917 0.63636364 0.57024793]\n",
      "Polynomial Kernel CV Score: 0.576358217043761\n",
      "Accuracy: 0.58 (+/- 0.08)\n"
     ]
    }
   ],
   "source": [
    "# RBF Kernel CV\n",
    "rbf_svc = SVC(C=1, kernel='poly', gamma='auto')\n",
    "rbf_cv_scores = cross_val_score(rbf_svc, X_resampled, y_resampled, cv=10, scoring=recallScorer)\n",
    "print(rbf_cv_scores)\n",
    "print('Polynomial Kernel CV Score:', rbf_cv_scores.mean())\n",
    "print(\"Accuracy: %0.2f (+/- %0.2f)\" % (rbf_cv_scores.mean(), rbf_cv_scores.std() * 2))"
   ]
  },
  {
   "cell_type": "markdown",
   "metadata": {},
   "source": [
    "- Not great."
   ]
  },
  {
   "cell_type": "markdown",
   "metadata": {},
   "source": [
    "## SVC-CV Oversampled Results"
   ]
  },
  {
   "cell_type": "markdown",
   "metadata": {},
   "source": [
    "- Overall, the __linear kernel__ had the best result.\n",
    "    - Accuracy Score: 0.665871121718377\n",
    "    - Overall Recall: [0.79783394 0.52219321 0.76966292]\n",
    "    - Contender Class Recall: [0.76966292]"
   ]
  },
  {
   "cell_type": "markdown",
   "metadata": {},
   "source": [
    "## GridSearchCV\n",
    "GridSearchCV for SVC and Random Forests"
   ]
  },
  {
   "cell_type": "markdown",
   "metadata": {},
   "source": [
    "### Support Vector Classifier"
   ]
  },
  {
   "cell_type": "code",
   "execution_count": 88,
   "metadata": {},
   "outputs": [],
   "source": [
    "# SVC model parameters. Focusing on linear, as that seemed the most promising.\n",
    "parameter_grid = [\n",
    "    {'C': [1, 10, 100, 1000], 'kernel': ['linear']},\n",
    "]"
   ]
  },
  {
   "cell_type": "code",
   "execution_count": 89,
   "metadata": {},
   "outputs": [],
   "source": [
    "grid = GridSearchCV(estimator=SVC(), param_grid=parameter_grid, \n",
    "                    n_jobs=-1, cv=10, scoring=recallScorer)"
   ]
  },
  {
   "cell_type": "code",
   "execution_count": 90,
   "metadata": {},
   "outputs": [
    {
     "data": {
      "text/plain": [
       "GridSearchCV(cv=10, error_score='raise-deprecating',\n",
       "       estimator=SVC(C=1.0, cache_size=200, class_weight=None, coef0=0.0,\n",
       "  decision_function_shape='ovr', degree=3, gamma='auto_deprecated',\n",
       "  kernel='rbf', max_iter=-1, probability=False, random_state=None,\n",
       "  shrinking=True, tol=0.001, verbose=False),\n",
       "       fit_params=None, iid='warn', n_jobs=-1,\n",
       "       param_grid=[{'C': [1, 10, 100, 1000], 'kernel': ['linear']}],\n",
       "       pre_dispatch='2*n_jobs', refit=True, return_train_score='warn',\n",
       "       scoring=make_scorer(recall_score, average=None, labels=[3]),\n",
       "       verbose=0)"
      ]
     },
     "execution_count": 90,
     "metadata": {},
     "output_type": "execute_result"
    }
   ],
   "source": [
    "# Fit parameters\n",
    "grid.fit(X_resampled, y_resampled)"
   ]
  },
  {
   "cell_type": "markdown",
   "metadata": {},
   "source": [
    "- This GridSearchCV took quite a while..."
   ]
  },
  {
   "cell_type": "code",
   "execution_count": 91,
   "metadata": {},
   "outputs": [
    {
     "name": "stdout",
     "output_type": "stream",
     "text": [
      "Best Contender score for SVC: 0.7109826589595376\n",
      "Best C: 10\n",
      "Best Kernel: linear\n",
      "Best Gamma: auto_deprecated\n"
     ]
    }
   ],
   "source": [
    "# View the accuracy score\n",
    "print('Best Contender score for SVC:', grid.best_score_)\n",
    "print('Best C:', grid.best_estimator_.C)\n",
    "print('Best Kernel:', grid.best_estimator_.kernel)\n",
    "print('Best Gamma:', grid.best_estimator_.gamma)"
   ]
  },
  {
   "cell_type": "markdown",
   "metadata": {},
   "source": [
    "- Not a bad result. Let's plug in and test."
   ]
  },
  {
   "cell_type": "markdown",
   "metadata": {},
   "source": [
    "### SVC Test With Optimized Parameters"
   ]
  },
  {
   "cell_type": "code",
   "execution_count": 92,
   "metadata": {},
   "outputs": [
    {
     "name": "stdout",
     "output_type": "stream",
     "text": [
      "Accuracy Score: 0.6646778042959427\n",
      "Overall Recall: [0.79783394 0.51958225 0.76966292]\n",
      "Contender Class Recall: [0.76966292]\n"
     ]
    }
   ],
   "source": [
    "y_pred = grid.predict(X_test)\n",
    "\n",
    "print(\"Accuracy Score:\", metrics.accuracy_score(y_test, y_pred))\n",
    "print(\"Overall Recall:\" , metrics.recall_score(y_test, y_pred, average=None))\n",
    "print(\"Contender Class Recall:\" , metrics.recall_score(y_test, y_pred, average=None, labels=[3]))"
   ]
  },
  {
   "cell_type": "markdown",
   "metadata": {},
   "source": [
    "- Not bad at all. Basically identical to KNN-CV oversampled. "
   ]
  },
  {
   "cell_type": "markdown",
   "metadata": {},
   "source": [
    "### Random Forest Classifier"
   ]
  },
  {
   "cell_type": "code",
   "execution_count": 195,
   "metadata": {},
   "outputs": [
    {
     "data": {
      "text/plain": [
       "RandomForestClassifier(bootstrap=True, class_weight=None, criterion='gini',\n",
       "            max_depth=None, max_features='auto', max_leaf_nodes=None,\n",
       "            min_impurity_decrease=0.0, min_impurity_split=None,\n",
       "            min_samples_leaf=1, min_samples_split=2,\n",
       "            min_weight_fraction_leaf=0.0, n_estimators=100, n_jobs=-1,\n",
       "            oob_score=False, random_state=None, verbose=0,\n",
       "            warm_start=False)"
      ]
     },
     "execution_count": 195,
     "metadata": {},
     "output_type": "execute_result"
    }
   ],
   "source": [
    "# Basic Random Forest classification with 100 trees\n",
    "rfc=RandomForestClassifier(n_estimators=100, n_jobs=-1)\n",
    "rfc.fit(X_resampled, y_resampled)"
   ]
  },
  {
   "cell_type": "markdown",
   "metadata": {},
   "source": [
    "### Basic Random Forest Test Score"
   ]
  },
  {
   "cell_type": "code",
   "execution_count": 196,
   "metadata": {},
   "outputs": [],
   "source": [
    "y_pred = rfc.predict(X_test)"
   ]
  },
  {
   "cell_type": "code",
   "execution_count": 197,
   "metadata": {},
   "outputs": [
    {
     "name": "stdout",
     "output_type": "stream",
     "text": [
      "Accuracy Score: 0.6646778042959427\n",
      "Overall Recall: [0.67509025 0.66318538 0.65168539]\n",
      "Contender Class Recall: [0.65168539]\n"
     ]
    }
   ],
   "source": [
    "print(\"Accuracy Score:\", metrics.accuracy_score(y_test, y_pred))\n",
    "print(\"Overall Recall:\" , metrics.recall_score(y_test, y_pred, average=None))\n",
    "print(\"Contender Class Recall:\" , metrics.recall_score(y_test, y_pred, average=None, labels=[3]))"
   ]
  },
  {
   "cell_type": "markdown",
   "metadata": {},
   "source": [
    "- Just ok"
   ]
  },
  {
   "cell_type": "markdown",
   "metadata": {},
   "source": [
    "#### Show feature importance"
   ]
  },
  {
   "cell_type": "code",
   "execution_count": 222,
   "metadata": {},
   "outputs": [
    {
     "name": "stderr",
     "output_type": "stream",
     "text": [
      "No handles with labels found to put in legend.\n"
     ]
    },
    {
     "data": {
      "image/png": "[encoded data removed]",
      "text/plain": [
       "<Figure size 720x504 with 1 Axes>"
      ]
     },
     "metadata": {},
     "output_type": "display_data"
    }
   ],
   "source": [
    "from matplotlib import figure\n",
    "feature_imp = pd.Series(rfc.feature_importances_,index=X_train.columns, ).sort_values(ascending=False)\n",
    "# sns.set_context(\"notebook\", font_scale=1.5, rc={\"lines.linewidth\": 2.5})\n",
    "plt.figure(figsize=(10,7))\n",
    "sns.barplot(x=feature_imp, y=feature_imp.index)\n",
    "plt.xlabel('Feature Importance Score')\n",
    "plt.ylabel('Features')\n",
    "plt.title(\"Visualizing Important Features\")\n",
    "plt.legend()\n",
    "plt.show()"
   ]
  },
  {
   "cell_type": "markdown",
   "metadata": {},
   "source": [
    "- Now this is pretty awesome. Not surprisingly, APM and NumberOfPACs are the most important features.\n",
    "- Will definitely use some form of this plot."
   ]
  },
  {
   "cell_type": "markdown",
   "metadata": {},
   "source": [
    "### Random Forest Using GridSearchCV"
   ]
  },
  {
   "cell_type": "code",
   "execution_count": 107,
   "metadata": {},
   "outputs": [],
   "source": [
    "# Number of trees in random forest\n",
    "n_estimators = [10,30,100,300]\n",
    "# Number of features to consider at every split\n",
    "max_features = ['auto', 'sqrt']\n",
    "# Maximum number of levels in tree\n",
    "max_depth = [int(x) for x in np.linspace(10, 110, num = 11)]\n",
    "max_depth.append(None)\n",
    "# Minimum number of samples required to split a node\n",
    "min_samples_split = [2, 5, 10]\n",
    "# Minimum number of samples required at each leaf node\n",
    "min_samples_leaf = [1, 2, 4]\n",
    "# Method of selecting samples for training each tree\n",
    "bootstrap = [True, False]\n",
    "# Create the random grid\n",
    "random_grid = {'n_estimators': n_estimators,\n",
    "               'max_features': max_features,\n",
    "               'max_depth': max_depth,\n",
    "               'min_samples_split': min_samples_split,\n",
    "               'min_samples_leaf': min_samples_leaf,\n",
    "               'bootstrap': bootstrap}"
   ]
  },
  {
   "cell_type": "code",
   "execution_count": 108,
   "metadata": {},
   "outputs": [
    {
     "name": "stdout",
     "output_type": "stream",
     "text": [
      "Fitting 5 folds for each of 1728 candidates, totalling 8640 fits\n"
     ]
    },
    {
     "name": "stderr",
     "output_type": "stream",
     "text": [
      "[Parallel(n_jobs=-1)]: Using backend LokyBackend with 12 concurrent workers.\n",
      "[Parallel(n_jobs=-1)]: Done  17 tasks      | elapsed:    0.7s\n",
      "[Parallel(n_jobs=-1)]: Done 256 tasks      | elapsed:   17.5s\n",
      "[Parallel(n_jobs=-1)]: Done 459 tasks      | elapsed:   33.9s\n",
      "[Parallel(n_jobs=-1)]: Done 742 tasks      | elapsed:   58.5s\n",
      "[Parallel(n_jobs=-1)]: Done 1107 tasks      | elapsed:  1.5min\n",
      "[Parallel(n_jobs=-1)]: Done 1552 tasks      | elapsed:  2.2min\n",
      "[Parallel(n_jobs=-1)]: Done 2079 tasks      | elapsed:  3.0min\n",
      "[Parallel(n_jobs=-1)]: Done 2686 tasks      | elapsed:  3.9min\n",
      "[Parallel(n_jobs=-1)]: Done 3375 tasks      | elapsed:  5.0min\n",
      "[Parallel(n_jobs=-1)]: Done 4144 tasks      | elapsed:  6.2min\n",
      "[Parallel(n_jobs=-1)]: Done 4995 tasks      | elapsed:  7.9min\n",
      "[Parallel(n_jobs=-1)]: Done 5926 tasks      | elapsed:  9.9min\n",
      "[Parallel(n_jobs=-1)]: Done 6939 tasks      | elapsed: 12.1min\n",
      "[Parallel(n_jobs=-1)]: Done 8032 tasks      | elapsed: 14.5min\n",
      "[Parallel(n_jobs=-1)]: Done 8640 out of 8640 | elapsed: 15.8min finished\n"
     ]
    },
    {
     "data": {
      "text/plain": [
       "GridSearchCV(cv=5, error_score='raise-deprecating',\n",
       "       estimator=RandomForestClassifier(bootstrap=True, class_weight=None, criterion='gini',\n",
       "            max_depth=None, max_features='auto', max_leaf_nodes=None,\n",
       "            min_impurity_decrease=0.0, min_impurity_split=None,\n",
       "            min_samples_leaf=1, min_samples_split=2,\n",
       "            min_weight_fraction_leaf=0.0, n_estimators='warn', n_jobs=None,\n",
       "            oob_score=False, random_state=None, verbose=0,\n",
       "            warm_start=False),\n",
       "       fit_params=None, iid='warn', n_jobs=-1,\n",
       "       param_grid={'n_estimators': [10, 30, 100, 300], 'max_features': ['auto', 'sqrt'], 'max_depth': [10, 20, 30, 40, 50, 60, 70, 80, 90, 100, 110, None], 'min_samples_split': [2, 5, 10], 'min_samples_leaf': [1, 2, 4], 'bootstrap': [True, False]},\n",
       "       pre_dispatch='2*n_jobs', refit=True, return_train_score='warn',\n",
       "       scoring=make_scorer(recall_score, average=None, labels=[3]),\n",
       "       verbose=2)"
      ]
     },
     "execution_count": 108,
     "metadata": {},
     "output_type": "execute_result"
    }
   ],
   "source": [
    "# Use the random grid to search for best hyperparameters\n",
    "# First create the base model to tune\n",
    "rf = RandomForestClassifier()\n",
    "# Random search of parameters, using 5 fold cross validation, \n",
    "# 3 different combinations, and use all available cores\n",
    "rf_grid = GridSearchCV(estimator = rf, param_grid = random_grid, \n",
    "                       cv = 5, verbose=2, n_jobs = -1, scoring=recallScorer)\n",
    "# Fit the random search model\n",
    "rf_grid.fit(X_resampled, y_resampled)"
   ]
  },
  {
   "cell_type": "markdown",
   "metadata": {},
   "source": [
    "- For the record, this process took a LONG time. "
   ]
  },
  {
   "cell_type": "code",
   "execution_count": 110,
   "metadata": {},
   "outputs": [
    {
     "name": "stdout",
     "output_type": "stream",
     "text": [
      "Best score for Random Forests: 0.9512799339388934\n",
      "Best Estimators: 30\n",
      "Best Features: sqrt\n",
      "Best Depth: None\n",
      "Best Split: 2\n",
      "Best Leaves: 1\n",
      "Bootstrap?: True\n"
     ]
    }
   ],
   "source": [
    "# Print optimized scores\n",
    "print('Best score for Random Forests:', rf_grid.best_score_)\n",
    "print('Best Estimators:', rf_grid.best_estimator_.n_estimators)\n",
    "print('Best Features:', rf_grid.best_estimator_.max_features)\n",
    "print('Best Depth:', rf_grid.best_estimator_.max_depth)\n",
    "print('Best Split:', rf_grid.best_estimator_.min_samples_split)\n",
    "print('Best Leaves:', rf_grid.best_estimator_.min_samples_leaf)\n",
    "print('Bootstrap?:', rf_grid.best_estimator_.bootstrap)"
   ]
  },
  {
   "cell_type": "markdown",
   "metadata": {},
   "source": [
    "- VERY impressive score though. The best so far, at least before testing. "
   ]
  },
  {
   "cell_type": "code",
   "execution_count": 111,
   "metadata": {},
   "outputs": [],
   "source": [
    "# Train on the optimized parameters\n",
    "rfc_best=RandomForestClassifier(n_estimators=30, max_features='sqrt', max_depth=None,\n",
    "                                min_samples_split=2, min_samples_leaf=1, \n",
    "                                bootstrap=True, n_jobs=-1)\n",
    "rfc_best.fit(X_train, y_train)\n",
    "y_pred=rfc_best.predict(X_test)"
   ]
  },
  {
   "cell_type": "markdown",
   "metadata": {},
   "source": [
    "### GridSearchCV Optimized Random Forest Test Score"
   ]
  },
  {
   "cell_type": "code",
   "execution_count": 112,
   "metadata": {},
   "outputs": [
    {
     "name": "stdout",
     "output_type": "stream",
     "text": [
      "Accuracy Score: 0.6479713603818615\n",
      "Overall Recall: [0.66064982 0.71801567 0.47752809]\n",
      "Contender Class Recall: [0.47752809]\n"
     ]
    }
   ],
   "source": [
    "print(\"Accuracy Score:\", metrics.accuracy_score(y_test, y_pred))\n",
    "print(\"Overall Recall:\" , metrics.recall_score(y_test, y_pred, average=None))\n",
    "print(\"Contender Class Recall:\" , metrics.recall_score(y_test, y_pred, average=None, labels=[3]))"
   ]
  },
  {
   "cell_type": "markdown",
   "metadata": {},
   "source": [
    "- Interesting. Decent Recall for other classes and overall accuracy score, but really bad Recally for Contender. \n",
    "- This strongly implies that the model __overfit heavily on train__. \n",
    "- Overall __Random Forests have not perfomed well for the most important class__."
   ]
  },
  {
   "cell_type": "code",
   "execution_count": null,
   "metadata": {},
   "outputs": [],
   "source": []
  }
 ],
 "metadata": {
  "kernelspec": {
   "display_name": "Python 3",
   "language": "python",
   "name": "python3"
  },
  "language_info": {
   "codemirror_mode": {
    "name": "ipython",
    "version": 3
   },
   "file_extension": ".py",
   "mimetype": "text/x-python",
   "name": "python",
   "nbconvert_exporter": "python",
   "pygments_lexer": "ipython3",
   "version": "3.6.7"
  }
 },
 "nbformat": 4,
 "nbformat_minor": 2
}
