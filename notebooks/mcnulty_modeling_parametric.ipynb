{
 "cells": [
  {
   "cell_type": "markdown",
   "metadata": {},
   "source": [
    "# McNulty Modeling - Parametric Models\n"
   ]
  },
  {
   "cell_type": "code",
   "execution_count": 5,
   "metadata": {},
   "outputs": [],
   "source": [
    "import numpy as np\n",
    "import pandas as pd\n",
    "import matplotlib.pyplot as plt\n",
    "import seaborn as sns\n",
    "\n",
    "from sklearn.model_selection import train_test_split\n",
    "from sklearn.neighbors import KNeighborsClassifier\n",
    "from sklearn.metrics import accuracy_score, confusion_matrix\n",
    "from sklearn.model_selection import cross_val_score\n",
    "from sklearn import metrics\n",
    "from sklearn.model_selection import GridSearchCV\n",
    "from sklearn.multiclass import OneVsRestClassifier\n",
    "from sklearn.metrics import make_scorer\n",
    "\n",
    "from sklearn import svm\n",
    "\n",
    "from sklearn.tree import DecisionTreeClassifier\n",
    "from sklearn.svm import LinearSVC\n",
    "from sklearn.svm import SVC\n",
    "from sklearn.ensemble import RandomForestClassifier\n",
    "from sklearn.linear_model import LogisticRegression\n",
    "\n",
    "import matplotlib as mpl\n",
    "import scipy.stats as st\n",
    "\n",
    "from imblearn.over_sampling import RandomOverSampler\n",
    "\n",
    "import pickle\n",
    "from collections import Counter"
   ]
  },
  {
   "cell_type": "code",
   "execution_count": 6,
   "metadata": {},
   "outputs": [],
   "source": [
    "# Get pickles for new league dfs\n",
    "with open('sc_newLeagues_scaled.pickle','rb') as read_file:\n",
    "    scs = pickle.load(read_file)\n",
    "\n",
    "# Pickle opening code\n",
    "with open('sc_newLeagues_noscale.pickle','rb') as read_file:\n",
    "    scns = pickle.load(read_file)"
   ]
  },
  {
   "cell_type": "markdown",
   "metadata": {},
   "source": [
    "### Confusion Matrix Function"
   ]
  },
  {
   "cell_type": "code",
   "execution_count": 38,
   "metadata": {},
   "outputs": [],
   "source": [
    "def print_confusion_matrix(confusion_matrix, class_names, figsize = (10,7), \n",
    "                           labelsize=18, fontsize=15, numsize=20, cmap=None, cbar_size=10):\n",
    "    \"\"\"Prints a confusion matrix, as returned by sklearn.metrics.confusion_matrix, as a heatmap.\n",
    "    \n",
    "    Arguments\n",
    "    ---------\n",
    "    confusion_matrix: numpy.ndarray\n",
    "        The numpy.ndarray object returned from a call to sklearn.metrics.confusion_matrix. \n",
    "        Similarly constructed ndarrays can also be used.\n",
    "    class_names: list\n",
    "        An ordered list of class names, in the order they index the given confusion matrix.\n",
    "    figsize: tuple\n",
    "        A 2-long tuple, the first value determining the horizontal size of the ouputted figure,\n",
    "        the second determining the vertical size. Defaults to (10,7).\n",
    "    fontsize: int\n",
    "        Font size for axes labels. Defaults to 14.\n",
    "        \n",
    "    Returns\n",
    "    -------\n",
    "    matplotlib.figure.Figure\n",
    "        The resulting confusion matrix figure\n",
    "    \"\"\"\n",
    "    df_cm = pd.DataFrame(confusion_matrix, index=class_names, columns=class_names, )\n",
    "    fig = plt.figure(figsize=figsize)\n",
    "    try:\n",
    "        heatmap = sns.heatmap(df_cm, annot=True, fmt=\"d\", annot_kws={\"size\": numsize}, \n",
    "                              cmap=cmap )\n",
    "    except ValueError:\n",
    "        raise ValueError(\"Confusion matrix values must be integers.\")\n",
    "    heatmap.yaxis.set_ticklabels(heatmap.yaxis.get_ticklabels(), rotation=0, ha='right', fontsize=labelsize)\n",
    "    heatmap.xaxis.set_ticklabels(heatmap.xaxis.get_ticklabels(), rotation=0, ha='right', fontsize=labelsize)\n",
    "    plt.ylabel('TRUE', fontsize=fontsize)\n",
    "    plt.xlabel('PREDICTED', fontsize=fontsize)\n",
    "    return fig"
   ]
  },
  {
   "cell_type": "markdown",
   "metadata": {},
   "source": [
    "## Create DF Variants for Modeling"
   ]
  },
  {
   "cell_type": "markdown",
   "metadata": {},
   "source": [
    "#### Target = LeagueIndex"
   ]
  },
  {
   "cell_type": "code",
   "execution_count": 8,
   "metadata": {},
   "outputs": [],
   "source": [
    "# Our target across all models\n",
    "y = scs['LeagueIndex']"
   ]
  },
  {
   "cell_type": "markdown",
   "metadata": {},
   "source": [
    "### Parametric Model Features\n",
    "Very few due to general lack of normality in the dataset\n",
    "- APM\n",
    "- NumberOfPACs\n",
    "- UniqueUnitsMade"
   ]
  },
  {
   "cell_type": "code",
   "execution_count": 9,
   "metadata": {},
   "outputs": [],
   "source": [
    "# Unscaled parametric features\n",
    "par_noscal = scns.copy()\n",
    "par_noscal = par_noscal[['APM', 'NumberOfPACs', 'UniqueUnitsMade']]"
   ]
  },
  {
   "cell_type": "code",
   "execution_count": 10,
   "metadata": {},
   "outputs": [],
   "source": [
    "# Scaled parametric features\n",
    "par_scaled = scs.copy()\n",
    "par_scaled = par_scaled[['APM', 'NumberOfPACs', 'UniqueUnitsMade']]"
   ]
  },
  {
   "cell_type": "markdown",
   "metadata": {},
   "source": [
    "### Custom Recall Scorer"
   ]
  },
  {
   "cell_type": "code",
   "execution_count": 16,
   "metadata": {},
   "outputs": [],
   "source": [
    "# Make custom scorer\n",
    "recallScorer = make_scorer(metrics.recall_score, average=None, labels=[3])"
   ]
  },
  {
   "cell_type": "markdown",
   "metadata": {},
   "source": [
    "## Parametric Approach\n",
    "This may have a tougher time due to the general lack of normality in the dataset. Only three features survived the normality/collinearity culling. \n",
    "- Logistic Regression\n",
    "    - We'll start out with an oversample of the the parametric dataset, since it worked out well for previous models."
   ]
  },
  {
   "cell_type": "code",
   "execution_count": 11,
   "metadata": {},
   "outputs": [],
   "source": [
    "# New train_test_split for scaled dataset with only parametric features \n",
    "X_train, X_test, y_train, y_test = train_test_split(par_scaled, y, test_size=0.25, random_state=42)"
   ]
  },
  {
   "cell_type": "code",
   "execution_count": 12,
   "metadata": {},
   "outputs": [],
   "source": [
    "# Oversample the classes\n",
    "ros = RandomOverSampler(random_state=1)\n",
    "X_resampled, y_resampled = ros.fit_sample(X_train,y_train)"
   ]
  },
  {
   "cell_type": "markdown",
   "metadata": {},
   "source": [
    "### Logistic Regression with GridSearchCV"
   ]
  },
  {
   "cell_type": "code",
   "execution_count": 13,
   "metadata": {},
   "outputs": [],
   "source": [
    "logistic_grid = {'C': [100, 10, 1, 0.1, 0.01, 0.001, 0.0001, 0.00005, 0.00001, 0.000001, 1e-07],\n",
    "                 'penalty': ['l2'],\n",
    "                 'multi_class': ['multinomial'],\n",
    "                 'solver': ['newton-cg', 'lbfgs', 'sag'],\n",
    "                 'max_iter': [500]}"
   ]
  },
  {
   "cell_type": "code",
   "execution_count": 14,
   "metadata": {},
   "outputs": [],
   "source": [
    "log_reg_clf = LogisticRegression()"
   ]
  },
  {
   "cell_type": "code",
   "execution_count": 17,
   "metadata": {},
   "outputs": [
    {
     "name": "stdout",
     "output_type": "stream",
     "text": [
      "Fitting 5 folds for each of 33 candidates, totalling 165 fits\n"
     ]
    },
    {
     "name": "stderr",
     "output_type": "stream",
     "text": [
      "[Parallel(n_jobs=-1)]: Using backend LokyBackend with 12 concurrent workers.\n",
      "[Parallel(n_jobs=-1)]: Done  17 tasks      | elapsed:    2.0s\n",
      "[Parallel(n_jobs=-1)]: Done 165 out of 165 | elapsed:    2.3s finished\n"
     ]
    },
    {
     "data": {
      "text/plain": [
       "GridSearchCV(cv=5, error_score='raise-deprecating',\n",
       "       estimator=LogisticRegression(C=1.0, class_weight=None, dual=False, fit_intercept=True,\n",
       "          intercept_scaling=1, max_iter=100, multi_class='warn',\n",
       "          n_jobs=None, penalty='l2', random_state=None, solver='warn',\n",
       "          tol=0.0001, verbose=0, warm_start=False),\n",
       "       fit_params=None, iid='warn', n_jobs=-1,\n",
       "       param_grid={'C': [100, 10, 1, 0.1, 0.01, 0.001, 0.0001, 5e-05, 1e-05, 1e-06, 1e-07], 'penalty': ['l2'], 'multi_class': ['multinomial'], 'solver': ['newton-cg', 'lbfgs', 'sag'], 'max_iter': [500]},\n",
       "       pre_dispatch='2*n_jobs', refit=True, return_train_score='warn',\n",
       "       scoring=make_scorer(recall_score, average=None, labels=[3]),\n",
       "       verbose=2)"
      ]
     },
     "execution_count": 17,
     "metadata": {},
     "output_type": "execute_result"
    }
   ],
   "source": [
    "log_model = GridSearchCV(estimator = log_reg_clf, param_grid = logistic_grid, \n",
    "                              cv = 5, verbose=2, n_jobs = -1, scoring=recallScorer)\n",
    "log_model.fit(X_resampled, y_resampled)"
   ]
  },
  {
   "cell_type": "code",
   "execution_count": 18,
   "metadata": {},
   "outputs": [
    {
     "name": "stdout",
     "output_type": "stream",
     "text": [
      "Best score for Logistic Regression: 0.8572635135135135\n",
      "Best Estimator: 1e-06\n",
      "Best Solver: lbfgs\n"
     ]
    }
   ],
   "source": [
    "# Print optimized scores\n",
    "print('Best score for Logistic Regression:', log_model.best_score_)\n",
    "print('Best Estimator:', log_model.best_estimator_.C)\n",
    "print('Best Solver:', log_model.best_estimator_.solver)"
   ]
  },
  {
   "cell_type": "markdown",
   "metadata": {},
   "source": [
    "- Extremely low hyperparameter value at C=1e-06. May indicate something interesting going on with the data. \n",
    "- Test score is good. Let's see how it performs on test."
   ]
  },
  {
   "cell_type": "markdown",
   "metadata": {},
   "source": [
    "# Train on the optimized parameters\n"
   ]
  },
  {
   "cell_type": "code",
   "execution_count": 19,
   "metadata": {},
   "outputs": [],
   "source": [
    "log_best=LogisticRegression(C=1e-06, penalty='l2', multi_class='multinomial', solver='lbfgs',\n",
    "                            max_iter=500)\n",
    "log_best.fit(X_resampled, y_resampled)\n",
    "y_pred=log_best.predict(X_test)"
   ]
  },
  {
   "cell_type": "markdown",
   "metadata": {},
   "source": [
    "### GridSearchCV Optimized Logistic Regression Test Score"
   ]
  },
  {
   "cell_type": "code",
   "execution_count": 20,
   "metadata": {},
   "outputs": [
    {
     "name": "stdout",
     "output_type": "stream",
     "text": [
      "Accuracy Score: 0.4677804295942721\n",
      "Overall Recall: [0.88888889 0.02926829 0.88622754]\n",
      "Contender Class Recall: [0.88622754]\n"
     ]
    }
   ],
   "source": [
    "print(\"Accuracy Score:\", metrics.accuracy_score(y_test, y_pred))\n",
    "print(\"Overall Recall:\" , metrics.recall_score(y_test, y_pred, average=None))\n",
    "print(\"Contender Class Recall:\" , metrics.recall_score(y_test, y_pred, average=None, labels=[3]))"
   ]
  },
  {
   "cell_type": "code",
   "execution_count": 21,
   "metadata": {},
   "outputs": [],
   "source": [
    "#print_confusion_matrix(confusion_matrix, class_names, figsize = (10,7), labelsize=18, fontsize=15, cmap=None)"
   ]
  },
  {
   "cell_type": "code",
   "execution_count": 40,
   "metadata": {},
   "outputs": [
    {
     "data": {
      "image/png": "[encoded data removed]",
      "text/plain": [
       "<Figure size 1080x720 with 2 Axes>"
      ]
     },
     "metadata": {
      "needs_background": "light"
     },
     "output_type": "display_data"
    }
   ],
   "source": [
    "cnf_matrix = metrics.confusion_matrix(y_test, y_pred)\n",
    "cm = print_confusion_matrix(confusion_matrix(y_test, y_pred), ['Amateur', 'Promising', 'Contender'], \n",
    "                           figsize = (15,10), cmap='PuRd', labelsize=20, fontsize=20, numsize=25)"
   ]
  },
  {
   "cell_type": "markdown",
   "metadata": {},
   "source": [
    "- Very interesting final result here. The __the prediciton for Contender is highest with Logistic Regression__, but the predicion for Promising is abyssmal. \n",
    "- While I like the more inclusive nature for Contender, in that we aren't missing any, this is probably not the best score overall, due to the extremely poor performance for Promising. "
   ]
  },
  {
   "cell_type": "code",
   "execution_count": null,
   "metadata": {},
   "outputs": [],
   "source": []
  }
 ],
 "metadata": {
  "kernelspec": {
   "display_name": "Python 3",
   "language": "python",
   "name": "python3"
  },
  "language_info": {
   "codemirror_mode": {
    "name": "ipython",
    "version": 3
   },
   "file_extension": ".py",
   "mimetype": "text/x-python",
   "name": "python",
   "nbconvert_exporter": "python",
   "pygments_lexer": "ipython3",
   "version": "3.6.7"
  }
 },
 "nbformat": 4,
 "nbformat_minor": 2
}
